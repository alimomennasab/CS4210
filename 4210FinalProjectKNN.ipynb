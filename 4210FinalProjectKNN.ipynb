{
  "nbformat": 4,
  "nbformat_minor": 0,
  "metadata": {
    "colab": {
      "provenance": [],
      "gpuType": "T4",
      "include_colab_link": true
    },
    "kernelspec": {
      "name": "python3",
      "display_name": "Python 3"
    },
    "language_info": {
      "name": "python"
    },
    "accelerator": "GPU"
  },
  "cells": [
    {
      "cell_type": "markdown",
      "metadata": {
        "id": "view-in-github",
        "colab_type": "text"
      },
      "source": [
        "<a href=\"https://colab.research.google.com/github/alimomennasab/CS4210/blob/main/4210FinalProjectKNN.ipynb\" target=\"_parent\"><img src=\"https://colab.research.google.com/assets/colab-badge.svg\" alt=\"Open In Colab\"/></a>"
      ]
    },
    {
      "cell_type": "markdown",
      "source": [
        "## CS4210-02 Machine Learning\n",
        "## Fall 2024 Semester Project\n",
        "K-nearest neighbors model that classifies fish/shrimp from an image\n",
        "### Members:\n",
        "- Ali Momennasab\n",
        "- Denise Thuong\n",
        "- Eli Tolentino\n",
        "- Armin Erika Polanco\n",
        "- Sarah Choe\n",
        "- Damian Varela\n"
      ],
      "metadata": {
        "id": "H42PyOxCa6xv"
      }
    },
    {
      "cell_type": "markdown",
      "source": [
        "##Imports"
      ],
      "metadata": {
        "id": "QHbgJc_EiOq3"
      }
    },
    {
      "cell_type": "code",
      "source": [
        "import kagglehub\n",
        "import os\n",
        "import numpy as np\n",
        "import tensorflow as tf\n",
        "import pandas as pd\n",
        "import matplotlib.pyplot as plt\n",
        "import PIL\n",
        "\n",
        "from pathlib import Path\n",
        "from sklearn.model_selection import train_test_split\n",
        "from sklearn.metrics import classification_report, confusion_matrix, accuracy_score, cohen_kappa_score\n",
        "from sklearn.neighbors import KNeighborsClassifier\n",
        "from sklearn.preprocessing import LabelEncoder\n",
        "from pathlib import Path"
      ],
      "metadata": {
        "id": "Wo-k4bRMYo3J"
      },
      "execution_count": 1,
      "outputs": []
    },
    {
      "cell_type": "markdown",
      "source": [
        "##Data Preprocessing"
      ],
      "metadata": {
        "id": "GSSKYTDciSa0"
      }
    },
    {
      "cell_type": "code",
      "execution_count": null,
      "metadata": {
        "colab": {
          "base_uri": "https://localhost:8080/"
        },
        "id": "GWB-d2JEXrj-",
        "outputId": "6f95f22e-c327-4058-aebd-8048ae84ab7d"
      },
      "outputs": [
        {
          "output_type": "stream",
          "name": "stdout",
          "text": [
            "Downloading from https://www.kaggle.com/api/v1/datasets/download/crowww/a-large-scale-fish-dataset?dataset_version_number=2...\n"
          ]
        },
        {
          "output_type": "stream",
          "name": "stderr",
          "text": [
            "  5%|▍         | 153M/3.24G [00:01<00:29, 113MB/s]"
          ]
        }
      ],
      "source": [
        "# Download latest version\n",
        "path = kagglehub.dataset_download(\"crowww/a-large-scale-fish-dataset\")\n",
        "\n",
        "print(\"Path to dataset files:\", path)"
      ]
    },
    {
      "cell_type": "code",
      "source": [
        "# Cleaning dataset\n",
        "direc = Path(path)\n",
        "filepaths = list(direc.glob(r'**/*.png'))\n",
        "Labels = list(map(lambda x: os.path.split(os.path.split(x)[0])[1],filepaths))\n",
        "\n",
        "filepaths = pd.Series(filepaths, name='FilePaths').astype(str)\n",
        "Labels = pd.Series(Labels, name='Labels').astype(str)\n",
        "\n",
        "img_df = pd.merge(filepaths, Labels, right_index = True, left_index = True)\n",
        "\n",
        "img_df = img_df[ img_df['Labels'].apply(lambda x: x[-2:]!='GT') ] # ground truth binary masks not needed for classification\n",
        "\n",
        "img_df = img_df[img_df['FilePaths'].str.endswith('.png')].reset_index(drop=True) # keep only pngs\n",
        "\n",
        "# Shuffle images and display 9 random images\n",
        "img_df=img_df.sample(frac = 1).reset_index(drop=True)\n",
        "img_df.head()\n",
        "f,a = plt.subplots(nrows=3, ncols=3,figsize=(13, 7),\n",
        "                        subplot_kw={'xticks': [], 'yticks': []})\n",
        "\n",
        "for i, ax in enumerate(a.flat):\n",
        "    ax.imshow(plt.imread(img_df.FilePaths[i]))\n",
        "    ax.set_title(img_df.Labels[i])\n",
        "\n",
        "plt.tight_layout()\n",
        "plt.show()"
      ],
      "metadata": {
        "id": "PuMKjm5gY43Y"
      },
      "execution_count": null,
      "outputs": []
    },
    {
      "cell_type": "code",
      "source": [
        "# Data analysis\n",
        "img_df.shape"
      ],
      "metadata": {
        "id": "kqSir5LAZVQB"
      },
      "execution_count": null,
      "outputs": []
    },
    {
      "cell_type": "code",
      "source": [
        "# Data analysis\n",
        "img_df.columns"
      ],
      "metadata": {
        "id": "DcWrgkd3uzQX"
      },
      "execution_count": null,
      "outputs": []
    },
    {
      "cell_type": "code",
      "source": [
        "# Delete original, non-augmented photos that have different sizing/resolution\n",
        "for index in img_df.index:\n",
        "    try:\n",
        "        img = plt.imread(img_df.FilePaths[index])\n",
        "        if img.shape != (445, 590, 3):\n",
        "            img_df.drop(index, inplace=True)\n",
        "    except:\n",
        "        # If we can't read the image, drop it\n",
        "        img_df.drop(index, inplace=True)\n",
        "\n",
        "img_df.shape"
      ],
      "metadata": {
        "id": "uhx4c7cfvCaO"
      },
      "execution_count": null,
      "outputs": []
    },
    {
      "cell_type": "code",
      "source": [
        "# Prepare features (X) and labels (y)\n",
        "X = []\n",
        "y = []\n",
        "\n",
        "# Load and flatten images\n",
        "for index in img_df.index:\n",
        "    img = plt.imread(img_df.FilePaths[index])\n",
        "    X.append(img.flatten())  # Flatten the image into 1D array for KNN\n",
        "    y.append(img_df.Labels[index])\n",
        "\n",
        "X = np.array(X)\n",
        "y = np.array(y)\n",
        "\n",
        "# Convert labels to numerical format\n",
        "label_encoder = LabelEncoder()\n",
        "y = label_encoder.fit_transform(y)\n",
        "\n",
        "# Split into training and testing sets\n",
        "X_train, X_test, y_train, y_test = train_test_split(X, y, train_size=8000, random_state=1)\n"
      ],
      "metadata": {
        "id": "c9hVAZIf1TPM"
      },
      "execution_count": null,
      "outputs": []
    },
    {
      "cell_type": "markdown",
      "source": [
        "##Training"
      ],
      "metadata": {
        "id": "4ogDkHgs3Z-2"
      }
    },
    {
      "cell_type": "code",
      "source": [
        "# Train KNN classifier\n",
        "model = KNeighborsClassifier(n_neighbors=5)\n",
        "model.fit(X_train, y_train)"
      ],
      "metadata": {
        "id": "l9UiV-h66pbY"
      },
      "execution_count": null,
      "outputs": []
    },
    {
      "cell_type": "code",
      "source": [
        "model.save('fish_model.keras')"
      ],
      "metadata": {
        "id": "DKSfaMM0Y3L0"
      },
      "execution_count": null,
      "outputs": []
    },
    {
      "cell_type": "markdown",
      "source": [
        "##Testing"
      ],
      "metadata": {
        "id": "uUUbXIp572aB"
      }
    },
    {
      "cell_type": "code",
      "source": [
        "predictions = model.predict(X_test)\n",
        "\n",
        "# evaluation metrics: confusion matrix, accuracy, classification report, kappa\n",
        "print(\"Confusion Matrix:\")\n",
        "print(confusion_matrix(y_test, predictions))\n",
        "print(\"Accuracy:\", accuracy_score(y_test, predictions))\n",
        "print(\"Classification Report:\", classification_report(y_test, predictions, target_names=label_encoder.classes_))\n",
        "print(\"Kappa:\", cohen_kappa_score(y_test, predictions))"
      ],
      "metadata": {
        "id": "RvtH0sQB6yFH"
      },
      "execution_count": null,
      "outputs": []
    }
  ]
}